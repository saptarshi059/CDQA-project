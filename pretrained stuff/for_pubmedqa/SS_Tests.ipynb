{
 "cells": [
  {
   "cell_type": "code",
   "execution_count": 2,
   "id": "da27d421",
   "metadata": {},
   "outputs": [
    {
     "name": "stdout",
     "output_type": "stream",
     "text": [
      "Necessary Files loaded...\n",
      "Model and tokenizer loaded...\n"
     ]
    }
   ],
   "source": [
    "import pandas as pd\n",
    "from transformers import AutoTokenizer, AutoModelForQuestionAnswering\n",
    "import torch\n",
    "from numpy.random import randint\n",
    "from tqdm.notebook import tqdm\n",
    "import re\n",
    "\n",
    "#with open('NN-DTE-to-phiyodr-bert-base-finetuned-squad2.pkl', 'rb') as f:\n",
    "#    full_approach_df = pd.read_pickle(f)\n",
    "\n",
    "with open('UMLS_Only_NN-DTE-to-phiyodr-bert-base-finetuned-squad2.pkl', 'rb') as f:\n",
    "    umls_only_approach_df = pd.read_pickle(f)\n",
    "\n",
    "with open('Mikolov_to_phiyodr_bert-base-finetuned-squad2.pkl', 'rb') as f:\n",
    "    mik_approach_df = pd.read_pickle(f)\n",
    "\n",
    "print('Necessary Files loaded...')\n",
    "\n",
    "model = AutoModelForQuestionAnswering.from_pretrained('phiyodr/bert-base-finetuned-squad2')\n",
    "model_embeddings = model.get_input_embeddings()\n",
    "tokenizer = AutoTokenizer.from_pretrained('phiyodr/bert-base-finetuned-squad2')\n",
    "\n",
    "print('Model and tokenizer loaded...')"
   ]
  },
  {
   "cell_type": "code",
   "execution_count": 3,
   "id": "50e8cc6c",
   "metadata": {},
   "outputs": [],
   "source": [
    "our_sim_scores = []\n",
    "mik_sim_scores = []\n",
    "\n",
    "cos = torch.nn.CosineSimilarity()\n",
    "model_elements_subset = {}\n",
    "\n",
    "count = 0\n",
    "number_of_elements_to_select = 5000\n",
    "\n",
    "while count != number_of_elements_to_select:\n",
    "    idx = randint(0, tokenizer.__len__())\n",
    "    token = tokenizer._convert_id_to_token(idx)\n",
    "    #We are trying to exclude numbers from the computation cause that doesn't really tell us anything\n",
    "    if (not re.search('\\d+', token)) and (token not in model_elements_subset.keys()):\n",
    "        model_elements_subset[token] = model_embeddings(torch.LongTensor([idx]))\n",
    "        count+= 1\n",
    "\n",
    "def compute_sim_stats(df, topk=20):\n",
    "    sim_scores = {}\n",
    "    for row in tqdm(df.itertuples(index=False)):\n",
    "        for mod_el in model_elements_subset.items():\n",
    "            sim_scores[(row.Entity, mod_el[0])] = cos(row.UMLS_Embedding.detach(), mod_el[1].detach()).item()\n",
    "    scores = torch.FloatTensor(list(sim_scores.values()))\n",
    "    print(f'Mean Sim: {torch.mean(scores)}')\n",
    "    print(f'Std. Dev. Sim: {torch.std(scores)}')\n",
    "    print(f'...\\nTop {topk} similar pairs (Entity, Model)')\n",
    "    print(sorted(sim_scores.items(), key=lambda x: x[1], reverse=True)[0:topk])"
   ]
  },
  {
   "cell_type": "code",
   "execution_count": 4,
   "id": "65d96e08",
   "metadata": {},
   "outputs": [
    {
     "data": {
      "application/vnd.jupyter.widget-view+json": {
       "model_id": "bc24d9109dc2477b8ed8bc3453704e34",
       "version_major": 2,
       "version_minor": 0
      },
      "text/plain": [
       "0it [00:00, ?it/s]"
      ]
     },
     "metadata": {},
     "output_type": "display_data"
    },
    {
     "name": "stdout",
     "output_type": "stream",
     "text": [
      "Mean Sim: 0.3562013506889343\n",
      "Std. Dev. Sim: 0.3457609713077545\n",
      "...\n",
      "Top 20 similar pairs (Entity, Model)\n",
      "[(('adventure', 'adventure'), 0.9725835919380188), (('financial', 'financial'), 0.8610132932662964), (('volcano', 'ᄎ'), 0.8396756649017334), (('137', 'ᄅ'), 0.8387606739997864), (('137', 'ᄎ'), 0.8387260437011719), (('statute', 'ᄎ'), 0.8375660181045532), (('137', '##ذ'), 0.8375254273414612), (('licking', 'ᄎ'), 0.8374002575874329), (('137', 'त'), 0.8367186188697815), (('190', 'ᄅ'), 0.8358256220817566), (('190', '##ذ'), 0.8351693749427795), (('68', 'ᄅ'), 0.8335087895393372), (('statute', 'ᄅ'), 0.833187997341156), (('cologne', '##ذ'), 0.8331410884857178), (('172', 'ᄅ'), 0.8325009346008301), (('statute', '##ذ'), 0.8322805166244507), (('hydrogen', 'ᄎ'), 0.8321632146835327), (('cologne', 'ᄅ'), 0.831396222114563), (('cologne', 'ᄎ'), 0.8310816287994385), (('volcano', 'ᄅ'), 0.8309412002563477)]\n"
     ]
    }
   ],
   "source": [
    "compute_sim_stats(mik_approach_df)"
   ]
  },
  {
   "cell_type": "code",
   "execution_count": null,
   "id": "314a5912",
   "metadata": {},
   "outputs": [],
   "source": [
    "compute_sim_stats(full_approach_df)"
   ]
  },
  {
   "cell_type": "code",
   "execution_count": 5,
   "id": "1777b19d",
   "metadata": {},
   "outputs": [
    {
     "data": {
      "application/vnd.jupyter.widget-view+json": {
       "model_id": "0c66dcd3fd7749deb8f005e7e6a14ba0",
       "version_major": 2,
       "version_minor": 0
      },
      "text/plain": [
       "0it [00:00, ?it/s]"
      ]
     },
     "metadata": {},
     "output_type": "display_data"
    },
    {
     "name": "stdout",
     "output_type": "stream",
     "text": [
      "Mean Sim: 0.016827397048473358\n",
      "Std. Dev. Sim: 0.026941044256091118\n",
      "...\n",
      "Top 20 similar pairs (Entity, Model)\n",
      "[(('Maximum oxygen uptake', 'fireplace'), 0.10459917038679123), (('Coach (vehicle)', 'fireplace'), 0.10459746420383453), (('Imitation', 'fireplace'), 0.10459674894809723), (('Lebanese race', 'fireplace'), 0.10459446161985397), (('Surveys', 'fireplace'), 0.10459356009960175), (('Three months', 'fireplace'), 0.1045934334397316), (('plasma concentration', 'fireplace'), 0.10459332913160324), (('Severe (severity modifier)', 'fireplace'), 0.10459267348051071), (('BARRIER', 'fireplace'), 0.10459262877702713), (('Observation parameter', 'fireplace'), 0.104592464864254), (('Data', 'fireplace'), 0.10459242761135101), (('Alteration', 'fireplace'), 0.10459233075380325), (('Congenital MeSH qualifier', 'fireplace'), 0.10459231585264206), (('Site of', 'fireplace'), 0.10459229350090027), (('Classification', 'fireplace'), 0.10459228605031967), (('Numerical value', 'fireplace'), 0.10459227859973907), (('response to hormone', 'fireplace'), 0.10459225624799728), (('Direction', 'fireplace'), 0.10459224879741669), (('Characteristics', 'fireplace'), 0.1045922264456749), (('Snellen visual acuity', 'fireplace'), 0.10459209978580475)]\n"
     ]
    }
   ],
   "source": [
    "compute_sim_stats(umls_only_approach_df)"
   ]
  },
  {
   "cell_type": "code",
   "execution_count": null,
   "id": "f8697ea4",
   "metadata": {},
   "outputs": [],
   "source": [
    "compute_sim_stats(def_only_approach_df)"
   ]
  }
 ],
 "metadata": {
  "kernelspec": {
   "display_name": "Python 3 (ipykernel)",
   "language": "python",
   "name": "python3"
  },
  "language_info": {
   "codemirror_mode": {
    "name": "ipython",
    "version": 3
   },
   "file_extension": ".py",
   "mimetype": "text/x-python",
   "name": "python",
   "nbconvert_exporter": "python",
   "pygments_lexer": "ipython3",
   "version": "3.9.7"
  }
 },
 "nbformat": 4,
 "nbformat_minor": 5
}
