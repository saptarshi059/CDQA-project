{
 "cells": [
  {
   "cell_type": "code",
   "execution_count": null,
   "id": "83c9163e",
   "metadata": {},
   "outputs": [],
   "source": [
    "import sqlite3\n",
    "import pandas as pd\n",
    "from tqdm import tqdm\n",
    "\n",
    "conn = sqlite3.connect('../umls.db')\n",
    "cursor = conn.cursor()\n",
    "\n",
    "their_cuis = pd.read_csv('cuis.csv')"
   ]
  },
  {
   "cell_type": "code",
   "execution_count": null,
   "id": "fe845001",
   "metadata": {},
   "outputs": [],
   "source": [
    "their_cui_pc_tuples = []\n",
    "for cui in tqdm(their_cuis.itertuples(index=False)):\n",
    "    cursor.execute(\"SELECT STR FROM DESCRIPTIONS WHERE CUI = '%s' \" % cui.CUI)\n",
    "    result = cursor.fetchall()\n",
    "    for item in result:\n",
    "        their_cui_pc_tuples.append((cui.CUI, item[0]))\n",
    "        break\n",
    "\n",
    "pd.DataFrame(their_cui_pc_tuples, columns=['CUI','PC']).to_csv('their_CUI_PC.csv', index=False)"
   ]
  },
  {
   "cell_type": "code",
   "execution_count": 1,
   "id": "3d6d754a",
   "metadata": {},
   "outputs": [],
   "source": [
    "import pandas as pd\n",
    "s = pd.read_csv('their_CUI_PC.csv')"
   ]
  },
  {
   "cell_type": "code",
   "execution_count": 2,
   "id": "2ac6dc4b",
   "metadata": {},
   "outputs": [
    {
     "data": {
      "text/html": [
       "<div>\n",
       "<style scoped>\n",
       "    .dataframe tbody tr th:only-of-type {\n",
       "        vertical-align: middle;\n",
       "    }\n",
       "\n",
       "    .dataframe tbody tr th {\n",
       "        vertical-align: top;\n",
       "    }\n",
       "\n",
       "    .dataframe thead th {\n",
       "        text-align: right;\n",
       "    }\n",
       "</style>\n",
       "<table border=\"1\" class=\"dataframe\">\n",
       "  <thead>\n",
       "    <tr style=\"text-align: right;\">\n",
       "      <th></th>\n",
       "      <th>CUI</th>\n",
       "      <th>PC</th>\n",
       "    </tr>\n",
       "  </thead>\n",
       "  <tbody>\n",
       "    <tr>\n",
       "      <th>0</th>\n",
       "      <td>C2931408</td>\n",
       "      <td>Alopecia universalis onychodystrophy vitiligo</td>\n",
       "    </tr>\n",
       "    <tr>\n",
       "      <th>1</th>\n",
       "      <td>C2931409</td>\n",
       "      <td>Flavimonas oryzihabitans Bacteremia</td>\n",
       "    </tr>\n",
       "    <tr>\n",
       "      <th>2</th>\n",
       "      <td>C2931404</td>\n",
       "      <td>Albright's hereditary osteodystrophy</td>\n",
       "    </tr>\n",
       "    <tr>\n",
       "      <th>3</th>\n",
       "      <td>C2931405</td>\n",
       "      <td>Aloi Tomasini Isaia syndrome</td>\n",
       "    </tr>\n",
       "    <tr>\n",
       "      <th>4</th>\n",
       "      <td>C2931406</td>\n",
       "      <td>Alopecia hypogonadism extrapyramidal disorder</td>\n",
       "    </tr>\n",
       "    <tr>\n",
       "      <th>...</th>\n",
       "      <td>...</td>\n",
       "      <td>...</td>\n",
       "    </tr>\n",
       "    <tr>\n",
       "      <th>3137499</th>\n",
       "      <td>C2638934</td>\n",
       "      <td>soil fungal sp. DM2-440</td>\n",
       "    </tr>\n",
       "    <tr>\n",
       "      <th>3137500</th>\n",
       "      <td>C2638935</td>\n",
       "      <td>soil fungal sp. DM2-442</td>\n",
       "    </tr>\n",
       "    <tr>\n",
       "      <th>3137501</th>\n",
       "      <td>C0882336</td>\n",
       "      <td>Bordetella bronchiseptica Ab:PrThr:Pt:Ser:Ord</td>\n",
       "    </tr>\n",
       "    <tr>\n",
       "      <th>3137502</th>\n",
       "      <td>C2739549</td>\n",
       "      <td>Triticum aestivum Ab.IgG4:MCnc:Pt:Ser:Qn</td>\n",
       "    </tr>\n",
       "    <tr>\n",
       "      <th>3137503</th>\n",
       "      <td>C4580378</td>\n",
       "      <td>Azotidae sp. BIOUG02542-H03</td>\n",
       "    </tr>\n",
       "  </tbody>\n",
       "</table>\n",
       "<p>3137504 rows × 2 columns</p>\n",
       "</div>"
      ],
      "text/plain": [
       "              CUI                                             PC\n",
       "0        C2931408  Alopecia universalis onychodystrophy vitiligo\n",
       "1        C2931409            Flavimonas oryzihabitans Bacteremia\n",
       "2        C2931404           Albright's hereditary osteodystrophy\n",
       "3        C2931405                   Aloi Tomasini Isaia syndrome\n",
       "4        C2931406  Alopecia hypogonadism extrapyramidal disorder\n",
       "...           ...                                            ...\n",
       "3137499  C2638934                        soil fungal sp. DM2-440\n",
       "3137500  C2638935                        soil fungal sp. DM2-442\n",
       "3137501  C0882336  Bordetella bronchiseptica Ab:PrThr:Pt:Ser:Ord\n",
       "3137502  C2739549       Triticum aestivum Ab.IgG4:MCnc:Pt:Ser:Qn\n",
       "3137503  C4580378                    Azotidae sp. BIOUG02542-H03\n",
       "\n",
       "[3137504 rows x 2 columns]"
      ]
     },
     "execution_count": 2,
     "metadata": {},
     "output_type": "execute_result"
    }
   ],
   "source": [
    "s"
   ]
  }
 ],
 "metadata": {
  "kernelspec": {
   "display_name": "Python 3",
   "language": "python",
   "name": "python3"
  },
  "language_info": {
   "codemirror_mode": {
    "name": "ipython",
    "version": 3
   },
   "file_extension": ".py",
   "mimetype": "text/x-python",
   "name": "python",
   "nbconvert_exporter": "python",
   "pygments_lexer": "ipython3",
   "version": "3.8.8"
  }
 },
 "nbformat": 4,
 "nbformat_minor": 5
}
