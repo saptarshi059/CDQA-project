{
 "cells": [
  {
   "cell_type": "code",
   "execution_count": 8,
   "id": "2a62fe8e",
   "metadata": {},
   "outputs": [],
   "source": [
    "import os\n",
    "import pickle5 as pickle\n",
    "from transformers import AutoTokenizer\n",
    "\n",
    "#model_name = 'phiyodr/bert-base-finetuned-squad2'\n",
    "#model_name = 'ktrapeznikov/biobert_v1.1_pubmed_squad_v2'\n",
    "#model_name = 'ktrapeznikov/scibert_scivocab_uncased_squad_v2'\n",
    "\n",
    "tokenizer = AutoTokenizer.from_pretrained(model_name)\n",
    "\n",
    "with open(os.path.abspath('UMLS_KG_main/KGT.pkl'), 'rb') as f:\n",
    "    KGT = pickle.load(f)"
   ]
  },
  {
   "cell_type": "code",
   "execution_count": 9,
   "id": "e9d65344",
   "metadata": {},
   "outputs": [
    {
     "data": {
      "text/plain": [
       "303"
      ]
     },
     "execution_count": 9,
     "metadata": {},
     "output_type": "execute_result"
    }
   ],
   "source": [
    "all_entities = set(KGT.E1.to_list()).union(set(KGT.E2.to_list()))\n",
    "bert_vocab = set(tokenizer.get_vocab().keys())\n",
    "\n",
    "len(all_entities.intersection(bert_vocab))"
   ]
  }
 ],
 "metadata": {
  "kernelspec": {
   "display_name": "Python 3",
   "language": "python",
   "name": "python3"
  },
  "language_info": {
   "codemirror_mode": {
    "name": "ipython",
    "version": 3
   },
   "file_extension": ".py",
   "mimetype": "text/x-python",
   "name": "python",
   "nbconvert_exporter": "python",
   "pygments_lexer": "ipython3",
   "version": "3.7.10"
  }
 },
 "nbformat": 4,
 "nbformat_minor": 5
}
