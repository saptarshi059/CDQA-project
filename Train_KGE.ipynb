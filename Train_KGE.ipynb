{
 "cells": [
  {
   "cell_type": "code",
   "execution_count": null,
   "id": "6e2554b5",
   "metadata": {
    "code_folding": [
     0
    ]
   },
   "outputs": [],
   "source": [
    "#Run this cell once to install pykg2vec\n",
    "!git clone https://github.com/Sujit-O/pykg2vec.git\n",
    "%cd pykg2vec/\n",
    "!python setup.py install"
   ]
  },
  {
   "cell_type": "code",
   "execution_count": null,
   "id": "e22992c0",
   "metadata": {},
   "outputs": [],
   "source": [
    "#Run this cell to execute pykg2vec programs\n",
    "%cd ~/Desktop/CDQA-project/pykg2vec/scripts"
   ]
  },
  {
   "cell_type": "code",
   "execution_count": null,
   "id": "98dc0406",
   "metadata": {
    "code_folding": [
     0
    ]
   },
   "outputs": [],
   "source": [
    "#Tune KGE model\n",
    "'''\n",
    "Parameters Explanation:\n",
    "1. lr = Learning Rate.\n",
    "2. l1 = L1_FLAG: The flag of using L1 or L2 norm.\n",
    "3. k = Hidden embedding size.\n",
    "4. b = training batch size.\n",
    "5. l = epochs.\n",
    "6. mg = margin to take.\n",
    "7. opt = optimizer.\n",
    "8. s = strategy to do negative sampling.\n",
    "9. ngr = The number of negative samples generated per positve one.\n",
    "\n",
    "!python pykg2vec_tune.py -mn DistMult -ds UMLS_KG -dsp ~/Desktop/CDQA-project/UMLS_KG \\\n",
    "-lr 0.01 -l1 True -k 768 -b 128 -l 1000 -mg 1.00 -opt \"sgd\" -s \"bern\" -ngr 1\n",
    "'''\n",
    "\n",
    "#Without any parameters specified\n",
    "!python pykg2vec_tune.py -mn TransE -ds UMLS_KG -dsp ~/Desktop/CDQA-project/UMLS_KG -t ~/Desktop/CDQA-project/UMLS_KG"
   ]
  },
  {
   "cell_type": "code",
   "execution_count": null,
   "id": "b80439e3",
   "metadata": {},
   "outputs": [],
   "source": [
    "#Train KGE\n",
    "\n",
    "'''\n",
    "#Specifying all hyperparams\n",
    "!python pykg2vec_train.py -mn DistMult -ds UMLS_KG -dsp ~/Desktop/CDQA-project/UMLS_KG \\\n",
    "-k 768 -lr 0.01 -l1 True -b 128 -l 1000 -mg 1.00 -opt \"sgd\" -s \"bern\" -ngr 1\n",
    "'''\n",
    "\n",
    "#Allowing the model to select it's own hyperparams but I'm setting hidden size to 768 to be compatible with BERT.\n",
    "!python pykg2vec_train.py -mn DistMult -ds UMLS_KG -dsp ~/Desktop/CDQA-project/UMLS_KG \\\n",
    "-k 768"
   ]
  }
 ],
 "metadata": {
  "kernelspec": {
   "display_name": "Python 3",
   "language": "python",
   "name": "python3"
  },
  "language_info": {
   "codemirror_mode": {
    "name": "ipython",
    "version": 3
   },
   "file_extension": ".py",
   "mimetype": "text/x-python",
   "name": "python",
   "nbconvert_exporter": "python",
   "pygments_lexer": "ipython3",
   "version": "3.7.10"
  }
 },
 "nbformat": 4,
 "nbformat_minor": 5
}
