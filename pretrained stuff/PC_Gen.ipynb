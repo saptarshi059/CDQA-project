{
 "cells": [
  {
   "cell_type": "code",
   "execution_count": null,
   "id": "83c9163e",
   "metadata": {},
   "outputs": [],
   "source": [
    "import sqlite3\n",
    "import pandas as pd\n",
    "from tqdm import tqdm\n",
    "\n",
    "conn = sqlite3.connect('../umls.db')\n",
    "cursor = conn.cursor()\n",
    "\n",
    "their_cuis = pd.read_csv('cuis.csv', header=None)"
   ]
  },
  {
   "cell_type": "code",
   "execution_count": null,
   "id": "fe845001",
   "metadata": {},
   "outputs": [],
   "source": [
    "their_cui_pc_tuples = []\n",
    "for cui in tqdm(their_cuis.itertuples(index=False)):\n",
    "    cursor.execute(\"SELECT STR FROM DESCRIPTIONS WHERE CUI = '%s' \" % cui._0)\n",
    "    result = cursor.fetchall()\n",
    "    try:\n",
    "        their_cui_pc_tuples.append((cui._0,result[0][0]))\n",
    "    except:\n",
    "        continue\n",
    "        \n",
    "pd.DataFrame(their_cui_pc_tuples, columns=['CUI','PC']).to_csv('their_CUI_PC.csv', index=False)"
   ]
  }
 ],
 "metadata": {
  "kernelspec": {
   "display_name": "Python 3",
   "language": "python",
   "name": "python3"
  },
  "language_info": {
   "codemirror_mode": {
    "name": "ipython",
    "version": 3
   },
   "file_extension": ".py",
   "mimetype": "text/x-python",
   "name": "python",
   "nbconvert_exporter": "python",
   "pygments_lexer": "ipython3",
   "version": "3.8.8"
  }
 },
 "nbformat": 4,
 "nbformat_minor": 5
}
