{
 "cells": [
  {
   "cell_type": "code",
   "execution_count": 1,
   "id": "55947d8e",
   "metadata": {
    "code_folding": []
   },
   "outputs": [
    {
     "name": "stdout",
     "output_type": "stream",
     "text": [
      "Model loaded on device: cpu\n",
      "Loaded all necessary files...\n"
     ]
    }
   ],
   "source": [
    "#Reading in the necessary files\n",
    "import pickle5 as pickle\n",
    "import os\n",
    "import pandas as pd\n",
    "from transformers import AutoTokenizer, AutoModel, logging\n",
    "import torch\n",
    "\n",
    "logging.set_verbosity(50)\n",
    "\n",
    "BERT_variant = 'phiyodr/bert-base-finetuned-squad2'\n",
    "tokenizer = AutoTokenizer.from_pretrained(BERT_variant)\n",
    "model = AutoModel.from_pretrained(BERT_variant)\n",
    "\n",
    "model_embeddings = model.get_input_embeddings()\n",
    "\n",
    "device = ('cuda:0' if torch.cuda.is_available() else 'cpu')\n",
    "model.to(device)\n",
    "print(f'Model loaded on device: {device}')\n",
    "\n",
    "UMLS_KG_path = os.path.abspath('../../../UMLS_KG_main')\n",
    "\n",
    "with open(os.path.join(UMLS_KG_path, 'entity2idx.pkl'), 'rb') as f:\n",
    "    entity2id = pickle.load(f)\n",
    "\n",
    "ent_embeddings = pd.read_csv(os.path.join(UMLS_KG_path, 'ent_embedding-distmult.tsv'), sep='\\t', header=None)\n",
    "\n",
    "print('Loaded all necessary files...')"
   ]
  },
  {
   "cell_type": "code",
   "execution_count": 2,
   "id": "1d1b62bb",
   "metadata": {},
   "outputs": [
    {
     "name": "stderr",
     "output_type": "stream",
     "text": [
      "100%|██████████| 2104/2104 [00:00<00:00, 2810.92it/s]\n"
     ]
    },
    {
     "name": "stdout",
     "output_type": "stream",
     "text": [
      "FFN training dataset created...\n"
     ]
    }
   ],
   "source": [
    "#Creating training dataset - with subword embedding scheme\n",
    "from tqdm import tqdm\n",
    "import numpy as np\n",
    "\n",
    "src = []\n",
    "tgt = []\n",
    "for ent_name, ent_index in tqdm(entity2id.items()):\n",
    "    entity_tokens = tokenizer(ent_name, return_tensors='pt')['input_ids'][0]\n",
    "    sw_embds = []\n",
    "    for index in range(1, len(entity_tokens)-1):\n",
    "        sw_embds.append(model_embeddings(entity_tokens[index]))\n",
    "    src.append(ent_embeddings.iloc[ent_index].to_numpy())\n",
    "    tgt.append(torch.mean(torch.vstack(sw_embds), dim=0).detach().numpy())\n",
    "    \n",
    "pd.DataFrame(zip(src, tgt), columns=['train', 'test']).to_pickle('Entity_Homogenization_data.pkl')\n",
    "\n",
    "print('FFN training dataset created...')"
   ]
  },
  {
   "cell_type": "code",
   "execution_count": null,
   "id": "f3c5e5e0",
   "metadata": {
    "code_folding": []
   },
   "outputs": [],
   "source": [
    "#Creating training dataset - with multiple hot targets scheme\n",
    "import torch\n",
    "from tqdm import tqdm\n",
    "import numpy as np\n",
    "\n",
    "'''\n",
    "#Instead of storing the full target vector, I am storing the indices of the natural text word pieces. \n",
    "This allows us to create the target representation at runtime.\n",
    "'''\n",
    "entity_embeddings = []\n",
    "multiple_hot_targets_indices = []\n",
    "\n",
    "def gen_sample(entity_name, entity_index):\n",
    "    return torch.FloatTensor(ent_embeddings.iloc[entity_index]), tokenizer(entity_name)['input_ids']\n",
    "    \n",
    "print('Creating training samples according to the conversion scheme...')\n",
    "for entity_name, entity_index in tqdm(entity2id.items()):\n",
    "    train, test = gen_sample(entity_name, entity_index)\n",
    "    entity_embeddings.append(train)\n",
    "    multiple_hot_targets_indices.append(test)\n",
    "\n",
    "pd.DataFrame(zip(entity_embeddings, multiple_hot_targets_indices), columns=['train', 'test']).to_pickle('Entity_Homogenization_data.pkl')\n",
    "\n",
    "print('FFN training dataset created...')"
   ]
  }
 ],
 "metadata": {
  "kernelspec": {
   "display_name": "Python 3",
   "language": "python",
   "name": "python3"
  },
  "language_info": {
   "codemirror_mode": {
    "name": "ipython",
    "version": 3
   },
   "file_extension": ".py",
   "mimetype": "text/x-python",
   "name": "python",
   "nbconvert_exporter": "python",
   "pygments_lexer": "ipython3",
   "version": "3.8.8"
  }
 },
 "nbformat": 4,
 "nbformat_minor": 5
}
