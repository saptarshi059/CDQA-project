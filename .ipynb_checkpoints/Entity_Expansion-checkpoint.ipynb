{
 "cells": [
  {
   "cell_type": "code",
   "execution_count": null,
   "id": "771f3c4a",
   "metadata": {
    "code_folding": [
     0
    ]
   },
   "outputs": [],
   "source": [
    "#Converting KGE to BERT embeddings (Domain Term Encoding (DTE)) - part1 (generating associated triples)\n",
    "#[Entity Expansion]\n",
    "%cd ~/Desktop/CDQA-project/UMLS_KG/\n",
    "\n",
    "import numpy as np\n",
    "import pandas as pd\n",
    "import pickle\n",
    "\n",
    "#Mapping b/w entity and corresponding ID\n",
    "with open('entity2idx.pkl', 'rb') as f:\n",
    "    entity2id = pickle.load(f)\n",
    "\n",
    "#Mapping b/w relation and corresponding ID\n",
    "with open('relation2idx.pkl', 'rb') as f:\n",
    "    relation2id = pickle.load(f)\n",
    "\n",
    "def triple_gen(current_entity):\n",
    "    results = KGT.query(\"E1==@current_entity\")\n",
    "    connected_entities = results.E2.to_list()\n",
    "    outgoing_relations = results.Rel.to_list()\n",
    "    a = []\n",
    "    for i in range(len(results)):\n",
    "        a.append([current_entity, outgoing_relations[i], connected_entities[i]])\n",
    "    a = [y for x in a for y in x]\n",
    "    return a\n",
    "\n",
    "triple_list = []\n",
    "for entity in tqdm(entity2id.keys()):\n",
    "    triple_list.append(triple_gen(entity))"
   ]
  },
  {
   "cell_type": "code",
   "execution_count": null,
   "id": "8d77a6b2",
   "metadata": {
    "code_folding": [
     0
    ]
   },
   "outputs": [],
   "source": [
    "#Converting KGE to BERT embeddings (Domain Term Encoding (DTE)) - part2 (each KG item -> (KG item, KGE))\n",
    "#KGE located here\n",
    "%cd ~/Desktop/CDQA-project/UMLS_KG/embeddings/distmult\n",
    "\n",
    "ent_embeddings = pd.read_csv('ent_embedding.tsv', sep='\\t', header=None)\n",
    "rel_embeddings = pd.read_csv('rel_embedding.tsv', sep='\\t', header=None)\n",
    "\n",
    "'''\n",
    "Associating each item in the triple list with respective embeddings. \n",
    "This is done to create an easy Domain Term BERT embedding matrix.\n",
    "'''\n",
    "for TL in tqdm(triple_list):\n",
    "    if TL == []:\n",
    "        continue\n",
    "    i = 0\n",
    "    for index, item in enumerate(TL):\n",
    "        if (i%3 == 0) or (i%3 == 2): #This item is an entity\n",
    "            TL[index] = (item, ent_embeddings.iloc[entity2id[item]].to_numpy())\n",
    "        else: #This item is a relation\n",
    "            TL[index] = (item, rel_embeddings.iloc[relation2id[item]].to_numpy())\n",
    "        i += 1\n",
    "        \n",
    "#Saving the expanded entities to disk\n",
    "with open('expanded_entities.pkl', 'wb') as filehandle:\n",
    "    pickle.dump(triple_list, filehandle)"
   ]
  }
 ],
 "metadata": {
  "kernelspec": {
   "display_name": "Python 3",
   "language": "python",
   "name": "python3"
  },
  "language_info": {
   "codemirror_mode": {
    "name": "ipython",
    "version": 3
   },
   "file_extension": ".py",
   "mimetype": "text/x-python",
   "name": "python",
   "nbconvert_exporter": "python",
   "pygments_lexer": "ipython3",
   "version": "3.7.10"
  }
 },
 "nbformat": 4,
 "nbformat_minor": 5
}
