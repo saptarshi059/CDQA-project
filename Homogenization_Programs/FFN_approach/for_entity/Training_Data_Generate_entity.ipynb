{
 "cells": [
  {
   "cell_type": "code",
   "execution_count": null,
   "id": "55947d8e",
   "metadata": {
    "code_folding": [
     0
    ]
   },
   "outputs": [],
   "source": [
    "#Reading in the necessary files\n",
    "import pickle5 as pickle\n",
    "import os\n",
    "import pandas as pd\n",
    "from transformers import AutoTokenizer\n",
    "\n",
    "BERT_variant = 'phiyodr/bert-base-finetuned-squad2'\n",
    "tokenizer = AutoTokenizer.from_pretrained(BERT_variant)\n",
    "\n",
    "UMLS_KG_path = os.path.abspath('../../../UMLS_KG')\n",
    "\n",
    "with open(os.path.join(UMLS_KG_path, 'entity2idx.pkl'), 'rb') as f:\n",
    "    entity2id = pickle.load(f)\n",
    "\n",
    "KGE_path = os.path.join(UMLS_KG_path, os.path.relpath('embeddings/distmult'))\n",
    "\n",
    "ent_embeddings = pd.read_csv(os.path.join(KGE_path, 'ent_embedding.tsv'), sep='\\t', header=None)\n",
    "\n",
    "print('Loaded all necessary files...')"
   ]
  },
  {
   "cell_type": "code",
   "execution_count": null,
   "id": "f3c5e5e0",
   "metadata": {
    "code_folding": []
   },
   "outputs": [],
   "source": [
    "#Creating training dataset\n",
    "import torch\n",
    "from tqdm import tqdm\n",
    "import numpy as np\n",
    "\n",
    "'''\n",
    "#Instead of storing the full target vector, I am storing the indices of the natural text word pieces. \n",
    "This allows us to create the target representation at runtime.\n",
    "'''\n",
    "entity_embeddings = []\n",
    "multiple_hot_targets_indices = []\n",
    "\n",
    "def gen_sample(entity_name, entity_index):\n",
    "    return torch.FloatTensor(ent_embeddings.iloc[entity_index]), tokenizer(entity_name)['input_ids']\n",
    "    \n",
    "print('Creating training samples according to the conversion scheme...')\n",
    "for entity_name, entity_index in tqdm(entity2id.items()):\n",
    "    train, test = gen_sample(entity_name, entity_index)\n",
    "    entity_embeddings.append(train)\n",
    "    multiple_hot_targets_indices.append(test)\n",
    "\n",
    "pd.DataFrame(zip(entity_embeddings, multiple_hot_targets_indices), columns=['train', 'test']).to_pickle('Entity_Homogenization_data.pkl')\n",
    "\n",
    "print('FFN training dataset created...')"
   ]
  }
 ],
 "metadata": {
  "kernelspec": {
   "display_name": "Python 3",
   "language": "python",
   "name": "python3"
  },
  "language_info": {
   "codemirror_mode": {
    "name": "ipython",
    "version": 3
   },
   "file_extension": ".py",
   "mimetype": "text/x-python",
   "name": "python",
   "nbconvert_exporter": "python",
   "pygments_lexer": "ipython3",
   "version": "3.7.10"
  }
 },
 "nbformat": 4,
 "nbformat_minor": 5
}
