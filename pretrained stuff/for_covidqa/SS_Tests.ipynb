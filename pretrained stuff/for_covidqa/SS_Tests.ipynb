{
 "cells": [
  {
   "cell_type": "code",
   "execution_count": 1,
   "id": "da27d421",
   "metadata": {},
   "outputs": [
    {
     "name": "stdout",
     "output_type": "stream",
     "text": [
      "Necessary Files loaded...\n",
      "Model and tokenizer loaded...\n"
     ]
    }
   ],
   "source": [
    "import pandas as pd\n",
    "from transformers import AutoTokenizer, AutoModelForQuestionAnswering\n",
    "import torch\n",
    "from numpy.random import randint\n",
    "from tqdm.notebook import tqdm\n",
    "import re\n",
    "\n",
    "with open('NN-DTE-to-phiyodr-bert-base-finetuned-squad2.pkl', 'rb') as f:\n",
    "    our_approach_df = pd.read_pickle(f)\n",
    "\n",
    "with open('Mikolov_to_phiyodr_bert-base-finetuned-squad2.pkl', 'rb') as f:\n",
    "    mik_approach_df = pd.read_pickle(f)\n",
    "    \n",
    "print('Necessary Files loaded...')\n",
    "\n",
    "model = AutoModelForQuestionAnswering.from_pretrained('phiyodr/bert-base-finetuned-squad2')\n",
    "model_embeddings = model.get_input_embeddings()\n",
    "tokenizer = AutoTokenizer.from_pretrained('phiyodr/bert-base-finetuned-squad2')\n",
    "\n",
    "print('Model and tokenizer loaded...')"
   ]
  },
  {
   "cell_type": "code",
   "execution_count": 2,
   "id": "50e8cc6c",
   "metadata": {},
   "outputs": [],
   "source": [
    "our_sim_scores = []\n",
    "mik_sim_scores = []\n",
    "\n",
    "cos = torch.nn.CosineSimilarity()\n",
    "model_elements_subset = {}\n",
    "\n",
    "count = 0\n",
    "number_of_elements_to_select = tokenizer.__len__()\n",
    "\n",
    "while count != number_of_elements_to_select:\n",
    "    idx = randint(0, number_of_elements_to_select)\n",
    "    token = tokenizer._convert_id_to_token(idx)\n",
    "    #We are trying to exclude numbers from the computation cause that doesn't really tell us anything\n",
    "    if (not re.search('\\d+', token)) and (token not in model_elements_subset.keys()):\n",
    "        model_elements_subset[token] = model_embeddings(torch.LongTensor([idx]))\n",
    "        count+= 1"
   ]
  },
  {
   "cell_type": "code",
   "execution_count": 4,
   "id": "d8f97fc0",
   "metadata": {},
   "outputs": [
    {
     "data": {
      "application/vnd.jupyter.widget-view+json": {
       "model_id": "df0b9698f6534c63a1f96fc45c3312c1",
       "version_major": 2,
       "version_minor": 0
      },
      "text/plain": [
       "0it [00:00, ?it/s]"
      ]
     },
     "metadata": {},
     "output_type": "display_data"
    },
    {
     "name": "stdout",
     "output_type": "stream",
     "text": [
      "Mean Sim: 0.042095281183719635\n",
      "Std. Dev. Sim: 0.030935749411582947\n",
      "...\n",
      "Top 20 similar pairs (Entity, Model)\n",
      "[(('Lipopolysaccharides', 'weathered'), 0.17903827130794525), (('Proteins', 'weathered'), 0.1770404428243637), (('Specimen', 'forbade'), 0.17694877088069916), (('artesunate', 'weathered'), 0.1739923655986786), (('described', '##ss'), 0.17359139025211334), (('Calpain', 'reforms'), 0.17279590666294098), (('described', 'worries'), 0.17182792723178864), (('entry - cluster', 'filters'), 0.1717856526374817), (('Elements', '##th'), 0.17068587243556976), (('paired basic amino acid cleaving enzyme', 'weathered'), 0.1702965497970581), (('Specimen', 'charlton'), 0.16923679411411285), (('Fowls, Domestic', 'reforms'), 0.1685318797826767), (('TNFSF10 protein, human', '##tting'), 0.16850689053535461), (('described', 'forbade'), 0.16848257184028625), (('Peptides', 'weathered'), 0.1684201955795288), (('Biological Processes', 'weathered'), 0.16840548813343048), (('Specimen', '##tting'), 0.1682761311531067), (('Cell Nucleolus', 'charlton'), 0.1680392026901245), (('Matrix Array', '##th'), 0.167292982339859), (('Released (action)', 'horrors'), 0.1671433448791504)]\n"
     ]
    },
    {
     "data": {
      "application/vnd.jupyter.widget-view+json": {
       "model_id": "1c68a3306c1a4b0aa85f35ca3cefe638",
       "version_major": 2,
       "version_minor": 0
      },
      "text/plain": [
       "0it [00:00, ?it/s]"
      ]
     },
     "metadata": {},
     "output_type": "display_data"
    },
    {
     "name": "stdout",
     "output_type": "stream",
     "text": [
      "Mean Sim: 0.3559246063232422\n",
      "Std. Dev. Sim: 0.3457118272781372\n",
      "...\n",
      "Top 20 similar pairs (Entity, Model)\n",
      "[(('customary', 'customary'), 0.915919303894043), (('137', 'ᄑ'), 0.8276524543762207), (('boulevard', 'ث'), 0.8276291489601135), (('volcano', 'ᄑ'), 0.8275499939918518), (('statute', 'ᄑ'), 0.8264901041984558), (('volcano', 'ث'), 0.826195478439331), (('137', 'ث'), 0.8257742524147034), (('statute', 'ث'), 0.8237239122390747), (('boulevard', 'ᄑ'), 0.8236469626426697), (('190', 'ᄑ'), 0.8234977722167969), (('cologne', 'ث'), 0.822898268699646), (('68', 'ث'), 0.8225765228271484), (('bonus', 'ᄑ'), 0.8223711252212524), (('190', 'ث'), 0.8221819400787354), (('indigo', 'ᄑ'), 0.8220299482345581), (('payment', 'ث'), 0.8216512203216553), (('licking', 'ᄑ'), 0.821648120880127), (('payment', 'ᄑ'), 0.8211519718170166), (('conductor', 'ᄑ'), 0.8203153610229492), (('indigo', 'ث'), 0.8201801180839539)]\n"
     ]
    }
   ],
   "source": [
    "def compute_sim_stats(df, topk=20):\n",
    "    sim_scores = {}\n",
    "    for row in tqdm(df.itertuples(index=False)):\n",
    "        for mod_el in model_elements_subset.items():\n",
    "            sim_scores[(row.Entity, mod_el[0])] = cos(row.UMLS_Embedding.detach(), mod_el[1].detach()).item()\n",
    "    scores = torch.FloatTensor(list(sim_scores.values()))\n",
    "    print(f'Mean Sim: {torch.mean(scores)}')\n",
    "    print(f'Std. Dev. Sim: {torch.std(scores)}')\n",
    "    print(f'...\\nTop {topk} similar pairs (Entity, Model)')\n",
    "    print(sorted(sim_scores.items(), key=lambda x: x[1], reverse=True)[0:topk])\n",
    "\n",
    "compute_sim_stats(our_approach_df)\n",
    "compute_sim_stats(mik_approach_df)"
   ]
  }
 ],
 "metadata": {
  "kernelspec": {
   "display_name": "Python 3 (ipykernel)",
   "language": "python",
   "name": "python3"
  },
  "language_info": {
   "codemirror_mode": {
    "name": "ipython",
    "version": 3
   },
   "file_extension": ".py",
   "mimetype": "text/x-python",
   "name": "python",
   "nbconvert_exporter": "python",
   "pygments_lexer": "ipython3",
   "version": "3.9.7"
  }
 },
 "nbformat": 4,
 "nbformat_minor": 5
}
