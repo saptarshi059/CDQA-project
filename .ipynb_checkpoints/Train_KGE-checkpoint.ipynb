{
 "cells": [
  {
   "cell_type": "code",
   "execution_count": null,
   "id": "6e2554b5",
   "metadata": {},
   "outputs": [],
   "source": [
    "#Run this cell once to install pykg2vec\n",
    "!git clone https://github.com/Sujit-O/pykg2vec.git\n",
    "%cd pykg2vec/\n",
    "!python setup.py install"
   ]
  },
  {
   "cell_type": "code",
   "execution_count": null,
   "id": "e22992c0",
   "metadata": {},
   "outputs": [],
   "source": [
    "#Run this cell to execute pykg2vec programs\n",
    "%cd ~/Desktop/CDQA-project/pykg2vec/scripts"
   ]
  },
  {
   "cell_type": "code",
   "execution_count": null,
   "id": "98dc0406",
   "metadata": {},
   "outputs": [],
   "source": [
    "#Tune KGE model (haven't been able to figure out how to tune params. Will have to wing it for now.)\n",
    "!python pykg2vec_tune.py -mn DistMult -ds UMLS_KG -dsp ~/Desktop/CDQA-project/UMLS_KG \\\n",
    "-hpf ~/Desktop/CDQA-project/UMLS_KG/hyperparams.yaml"
   ]
  },
  {
   "cell_type": "code",
   "execution_count": null,
   "id": "b80439e3",
   "metadata": {},
   "outputs": [],
   "source": [
    "#Train KGE\n",
    "!python pykg2vec_train.py -mn DistMult -ds UMLS_KG -dsp ~/Desktop/CDQA-project/UMLS_KG \\\n",
    "-lr 0.01 -l1 True -k 768 -b 128 -l 1000 -mg 1.00 -opt \"sgd\" -s \"bern\" -ngr 1"
   ]
  }
 ],
 "metadata": {
  "kernelspec": {
   "display_name": "Python 3",
   "language": "python",
   "name": "python3"
  },
  "language_info": {
   "codemirror_mode": {
    "name": "ipython",
    "version": 3
   },
   "file_extension": ".py",
   "mimetype": "text/x-python",
   "name": "python",
   "nbconvert_exporter": "python",
   "pygments_lexer": "ipython3",
   "version": "3.7.10"
  }
 },
 "nbformat": 4,
 "nbformat_minor": 5
}
