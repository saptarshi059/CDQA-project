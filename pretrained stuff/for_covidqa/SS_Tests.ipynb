{
 "cells": [
  {
   "cell_type": "code",
   "execution_count": 1,
   "id": "da27d421",
   "metadata": {},
   "outputs": [],
   "source": [
    "import pandas as pd\n",
    "from transformers import AutoTokenizer, AutoModelForQuestionAnswering\n",
    "import torch\n",
    "from numpy.random import randint\n",
    "from tqdm.notebook import tqdm\n",
    "\n",
    "with open('NN-DTE-to-phiyodr-bert-base-finetuned-squad2.pkl', 'rb') as f:\n",
    "    our_approach_df = pd.read_pickle(f)\n",
    "\n",
    "with open('Mikolov_to_phiyodr_bert-base-finetuned-squad2.pkl', 'rb') as f:\n",
    "    mik_approach_df = pd.read_pickle(f)"
   ]
  },
  {
   "cell_type": "code",
   "execution_count": 2,
   "id": "05590442",
   "metadata": {},
   "outputs": [
    {
     "name": "stdout",
     "output_type": "stream",
     "text": [
      "Model and tokenizer loaded...\n"
     ]
    }
   ],
   "source": [
    "model = AutoModelForQuestionAnswering.from_pretrained('phiyodr/bert-base-finetuned-squad2')\n",
    "model_embeddings = model.get_input_embeddings()\n",
    "tokenizer = AutoTokenizer.from_pretrained('phiyodr/bert-base-finetuned-squad2')\n",
    "print('Model and tokenizer loaded...')"
   ]
  },
  {
   "cell_type": "code",
   "execution_count": 16,
   "id": "50e8cc6c",
   "metadata": {},
   "outputs": [],
   "source": [
    "our_sim_scores = []\n",
    "mik_sim_scores = []\n",
    "\n",
    "cos = torch.nn.CosineSimilarity()\n",
    "model_elements_subset = {}\n",
    "\n",
    "for idx in randint(0, tokenizer.__len__(), size=1000):\n",
    "    model_elements_subset[tokenizer._convert_id_to_token(idx)] = model_embeddings(torch.LongTensor([idx]))"
   ]
  },
  {
   "cell_type": "code",
   "execution_count": 17,
   "id": "d8f97fc0",
   "metadata": {},
   "outputs": [
    {
     "data": {
      "application/vnd.jupyter.widget-view+json": {
       "model_id": "a689754164c14dabb810c15854acdb22",
       "version_major": 2,
       "version_minor": 0
      },
      "text/plain": [
       "0it [00:00, ?it/s]"
      ]
     },
     "metadata": {},
     "output_type": "display_data"
    },
    {
     "name": "stdout",
     "output_type": "stream",
     "text": [
      "Mean Sim: 0.04276169463992119\n",
      "Std. Dev. Sim: 0.030586203560233116\n",
      "...\n",
      "Top 20 similar pairs (Entity, Model)\n",
      "[(('Lipopolysaccharides', 'solemnly'), tensor([0.1666])), (('Released (action)', '##வ'), tensor([0.1649])), (('Nervous system structure', 'solemnly'), tensor([0.1615])), (('Released (action)', 'considerations'), tensor([0.1615])), (('Esthesia', 'solemnly'), tensor([0.1613])), (('Specimen', 'fantasies'), tensor([0.1611])), (('Reproduction', 'solemnly'), tensor([0.1609])), (('described', '##வ'), tensor([0.1592])), (('CDKN2A gene', 'solemnly'), tensor([0.1591])), (('Staff Member', 'accompanying'), tensor([0.1585])), (('Specimen', 'solemnly'), tensor([0.1574])), (('Public Health Surveillance', 'solemnly'), tensor([0.1573])), (('entry - cluster', 'aforementioned'), tensor([0.1572])), (('Open Reading Frames', 'solemnly'), tensor([0.1568])), (('Released (action)', 'fantasies'), tensor([0.1568])), (('Cell Nucleolus', 'solemnly'), tensor([0.1565])), (('cytokine secretion', 'solemnly'), tensor([0.1565])), (('TNFSF10 protein, human', 'solemnly'), tensor([0.1560])), (('Specimen', 'tingling'), tensor([0.1560])), (('coverage - financial contract', 'ended'), tensor([0.1560]))]\n"
     ]
    },
    {
     "data": {
      "application/vnd.jupyter.widget-view+json": {
       "model_id": "1ddae50b9bb04fb69331e553f81c37a1",
       "version_major": 2,
       "version_minor": 0
      },
      "text/plain": [
       "0it [00:00, ?it/s]"
      ]
     },
     "metadata": {},
     "output_type": "display_data"
    },
    {
     "name": "stdout",
     "output_type": "stream",
     "text": [
      "Mean Sim: 0.3580394685268402\n",
      "Std. Dev. Sim: 0.34967029094696045\n",
      "...\n",
      "Top 20 similar pairs (Entity, Model)\n",
      "[(('141', '141'), tensor([0.9869])), (('415', '415'), tensor([0.9686])), (('305', '337'), tensor([0.9137])), (('85', '337'), tensor([0.9135])), (('350', '337'), tensor([0.9121])), (('218', '337'), tensor([0.9116])), (('65', '337'), tensor([0.9113])), (('333', '337'), tensor([0.9113])), (('900', '337'), tensor([0.9112])), (('670', '337'), tensor([0.9109])), (('140', '337'), tensor([0.9105])), (('900', '820'), tensor([0.9098])), (('85', '820'), tensor([0.9098])), (('4000', '337'), tensor([0.9095])), (('275', '337'), tensor([0.9090])), (('320', '337'), tensor([0.9088])), (('200', '337'), tensor([0.9087])), (('3000', '820'), tensor([0.9086])), (('325', '337'), tensor([0.9080])), (('400', '337'), tensor([0.9079]))]\n"
     ]
    }
   ],
   "source": [
    "def compute_sim_stats(df, topk=20):\n",
    "    sim_scores = {}\n",
    "    for row in tqdm(df.itertuples(index=False)):\n",
    "        for mod_el in model_elements_subset.items():\n",
    "            sim_scores[(row.Entity, mod_el[0])] = cos(row.UMLS_Embedding.detach(), mod_el[1].detach())\n",
    "    scores = torch.FloatTensor(list(sim_scores.values()))\n",
    "    print(f'Mean Sim: {torch.mean(scores)}')\n",
    "    print(f'Std. Dev. Sim: {torch.std(scores)}')\n",
    "    print(f'...\\nTop {topk} similar pairs (Entity, Model)')\n",
    "    print(sorted(sim_scores.items(), key=lambda x: x[1], reverse=True)[0:topk])\n",
    "\n",
    "compute_sim_stats(our_approach_df)\n",
    "compute_sim_stats(mik_approach_df)"
   ]
  }
 ],
 "metadata": {
  "kernelspec": {
   "display_name": "Python 3 (ipykernel)",
   "language": "python",
   "name": "python3"
  },
  "language_info": {
   "codemirror_mode": {
    "name": "ipython",
    "version": 3
   },
   "file_extension": ".py",
   "mimetype": "text/x-python",
   "name": "python",
   "nbconvert_exporter": "python",
   "pygments_lexer": "ipython3",
   "version": "3.9.7"
  }
 },
 "nbformat": 4,
 "nbformat_minor": 5
}
