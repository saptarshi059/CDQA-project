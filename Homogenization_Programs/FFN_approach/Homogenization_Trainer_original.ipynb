{
 "cells": [
  {
   "cell_type": "code",
   "execution_count": null,
   "id": "e316e6bd",
   "metadata": {
    "code_folding": [
     0
    ]
   },
   "outputs": [],
   "source": [
    "#Creating the feedforward network\n",
    "import torch\n",
    "import pandas as pd\n",
    "import os\n",
    "from transformers import AutoTokenizer\n",
    "from MyNN import FFNN\n",
    "\n",
    "BERT_variant = 'navteca/roberta-base-squad2'\n",
    "\n",
    "vocab_size = AutoTokenizer.from_pretrained(BERT_variant).vocab_size\n",
    "ent_embeddings_size = len(pd.read_csv(os.path.join(os.path.join(os.path.abspath('../../UMLS_KG'), \\\n",
    "                                                            os.path.relpath('embeddings/distmult')), \\\n",
    "                                               'ent_embedding.tsv'), sep='\\t', header=None).columns)\n",
    "\n",
    "#1 X [dim of 1 KGE], since we are doing mean(triple)\n",
    "input_dimension = ent_embeddings_size\n",
    "\n",
    "#Size of BERT variant vocabulary\n",
    "output_dimension = vocab_size\n",
    "\n",
    "#Play with this\n",
    "number_of_hidden_layers = 10\n",
    "\n",
    "#Size of embedding required by BERT variant (usually 768)\n",
    "hidden_dimension = 768\n",
    "\n",
    "#Initializing the network\n",
    "model = FFNN(input_dimension, output_dimension, number_of_hidden_layers, hidden_dimension)\n",
    "\n",
    "'''\n",
    "We have to make send the model to device before creating the optimizer since parameters of a model after \n",
    ".cuda() will be different objects with those before the call (https://pytorch.org/docs/stable/optim.html)\n",
    "'''\n",
    "\n",
    "device = torch.device('cuda' if torch.cuda.is_available() else 'cpu')\n",
    "model.to(device)\n",
    "\n",
    "criterion = torch.nn.BCELoss()\n",
    "\n",
    "#Adam optimizer\n",
    "optimizer = torch.optim.Adam(model.parameters())\n",
    "\n",
    "print(f'FFN architecture: \\n {model} \\n Loss Function: {criterion} \\n Optimizer: {optimizer}')\n",
    "print(f'\\n Device being used: {device}')"
   ]
  },
  {
   "cell_type": "code",
   "execution_count": null,
   "id": "3fd72fc8",
   "metadata": {
    "code_folding": [
     0
    ]
   },
   "outputs": [],
   "source": [
    "#Creating dataset object & dataloader\n",
    "from torch.utils.data import Dataset, DataLoader\n",
    "class FFN_Data(Dataset):\n",
    "    def __init__(self):\n",
    "        data = pd.read_pickle('Homogenization_data.pkl')\n",
    "        self.x = data['train']\n",
    "        self.y = data['test']\n",
    "        self.n_samples = data.shape[0]\n",
    "    \n",
    "    def __getitem__(self, index):\n",
    "        true_output = np.zeros(vocab_size)\n",
    "        np.put(true_output, self.y[index], 1) #Creating true target representation here\n",
    "        return self.x[index], true_output\n",
    "    \n",
    "    def __len__(self):\n",
    "        return self.n_samples\n",
    "\n",
    "homogenization_dataset = FFN_Data()\n",
    "dataloader = DataLoader(dataset=homogenization_dataset, batch_size=4, shuffle=True, num_workers=2)\n",
    "\n",
    "print('Dataloader object created...')"
   ]
  },
  {
   "cell_type": "code",
   "execution_count": null,
   "id": "4e4fcb1a",
   "metadata": {
    "code_folding": [
     0
    ]
   },
   "outputs": [],
   "source": [
    "#Training Loop\n",
    "import numpy as np\n",
    "\n",
    "num_epochs = 2\n",
    "num_iterations = np.ceil(len(homogenization_dataset)/dataloader.batch_size)\n",
    "\n",
    "#Setting model to train mode\n",
    "model.train()\n",
    "epoch_loss_list = []\n",
    "for epoch in range(num_epochs):\n",
    "    epoch_loss = 0\n",
    "    for iteration_num, (train_sample, true_output) in enumerate(dataloader):\n",
    "\n",
    "        #Clearing Gradients\n",
    "        optimizer.zero_grad()\n",
    "        \n",
    "        #Generating Predictions\n",
    "        #'_' for hidden_states[-3] since we don't need that for training\n",
    "        softmax_output, _ = model(train_sample.to(device))       \n",
    "               \n",
    "        #Compute Loss\n",
    "        loss = criterion(softmax_output.double().to(device), true_output.double().to(device))\n",
    "\n",
    "        #Backward pass\n",
    "        loss.backward()\n",
    "        optimizer.step()\n",
    "\n",
    "        epoch_loss += loss.item()\n",
    "\n",
    "        if (iteration_num + 1) % 5 == 0:\n",
    "            print(f'Epoch: {epoch+1}/{num_epochs} | Iteration: {iteration_num+1}/{num_iterations} | \\\n",
    "                  Current Loss: {loss.item()}')\n",
    "    \n",
    "    epoch_loss_list.append(epoch_loss)\n",
    "    print(f'Epoch: {epoch+1}/{num_epochs} | Epoch Loss {epoch_loss}')\n",
    "\n",
    "print('Saving model to disk...')\n",
    "torch.save(model.state_dict(), 'Homogenizer.pt')\n",
    "print('Model saved...')"
   ]
  },
  {
   "cell_type": "code",
   "execution_count": null,
   "id": "261ea91c",
   "metadata": {
    "code_folding": [
     0
    ],
    "scrolled": true
   },
   "outputs": [],
   "source": [
    "#Tracking epoch loss\n",
    "import matplotlib.pyplot as plt\n",
    "plt.plot(list(range(len(epoch_loss_list))), epoch_loss_list)\n",
    "plt.xlabel('epoch number')\n",
    "plt.ylabel('epoch loss')\n",
    "plt.savefig('Training_Loss_Plot.png', bbox_inches='tight', dpi=600)"
   ]
  }
 ],
 "metadata": {
  "kernelspec": {
   "display_name": "Python 3",
   "language": "python",
   "name": "python3"
  },
  "language_info": {
   "codemirror_mode": {
    "name": "ipython",
    "version": 3
   },
   "file_extension": ".py",
   "mimetype": "text/x-python",
   "name": "python",
   "nbconvert_exporter": "python",
   "pygments_lexer": "ipython3",
   "version": "3.7.10"
  }
 },
 "nbformat": 4,
 "nbformat_minor": 5
}
