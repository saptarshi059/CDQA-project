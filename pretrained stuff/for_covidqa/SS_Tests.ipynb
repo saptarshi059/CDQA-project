{
 "cells": [
  {
   "cell_type": "code",
   "execution_count": 1,
   "id": "da27d421",
   "metadata": {},
   "outputs": [],
   "source": [
    "import pandas as pd\n",
    "from transformers import AutoTokenizer, AutoModelForQuestionAnswering\n",
    "\n",
    "with open('NN-DTE-to-phiyodr-bert-base-finetuned-squad2.pkl', 'rb') as f:\n",
    "    our_approach_df = pd.read_pickle(f)\n",
    "\n",
    "with open('Mikolov_to_phiyodr_bert-base-finetuned-squad2.pkl', 'rb') as f:\n",
    "    mik_approach_df = pd.read_pickle(f)"
   ]
  },
  {
   "cell_type": "code",
   "execution_count": 2,
   "id": "74639069",
   "metadata": {},
   "outputs": [
    {
     "name": "stdout",
     "output_type": "stream",
     "text": [
      "Number of Common entities b/w us & mik: 23\n"
     ]
    }
   ],
   "source": [
    "our_entities = set(our_approach_df.Entity.to_list())\n",
    "mik_entities = set(mik_approach_df.Entity.to_list())\n",
    "\n",
    "common_entities = list(our_entities.intersection(mik_entities))\n",
    "\n",
    "print(f\"Number of Common entities b/w us & mik: {len(common_entities)}\")"
   ]
  },
  {
   "cell_type": "code",
   "execution_count": 3,
   "id": "05590442",
   "metadata": {},
   "outputs": [],
   "source": [
    "model = AutoModelForQuestionAnswering.from_pretrained('phiyodr/bert-base-finetuned-squad2')\n",
    "model_embeddings = model.get_input_embeddings()\n",
    "model_vocab = AutoTokenizer.from_pretrained('phiyodr/bert-base-finetuned-squad2').get_vocab()"
   ]
  },
  {
   "cell_type": "code",
   "execution_count": 4,
   "id": "50e8cc6c",
   "metadata": {},
   "outputs": [],
   "source": [
    "import torch\n",
    "import numpy as np\n",
    "\n",
    "our_sim_scores = []\n",
    "mik_sim_scores = []\n",
    "\n",
    "cos = torch.nn.CosineSimilarity()\n",
    "\n",
    "for term in common_entities:\n",
    "    model_emb = model_embeddings(torch.LongTensor([model_vocab[term]]))\n",
    "    our_emb = our_approach_df.query(\"Entity==@term\").UMLS_Embedding.to_numpy()[0]\n",
    "    mik_emb = mik_approach_df.query(\"Entity==@term\").UMLS_Embedding.to_numpy()[0]\n",
    "    \n",
    "    our_sim_scores.append(cos(our_emb, model_emb))\n",
    "    mik_sim_scores.append(cos(mik_emb, model_emb))\n",
    "\n",
    "our_sim_scores = torch.FloatTensor(our_sim_scores)\n",
    "mik_sim_scores = torch.FloatTensor(mik_sim_scores)"
   ]
  },
  {
   "cell_type": "code",
   "execution_count": 5,
   "id": "3fd0e9be",
   "metadata": {},
   "outputs": [
    {
     "name": "stdout",
     "output_type": "stream",
     "text": [
      "Our Embeddings...\n",
      "Mean Sim: 0.04175913706421852\n",
      "Std. Dev. Sim: 0.03247544914484024\n",
      "Mik Embeddings...\n",
      "Mean Sim: 0.4302298128604889\n",
      "Std. Dev. Sim: 0.2847978174686432\n"
     ]
    }
   ],
   "source": [
    "print('Our Embeddings...')\n",
    "print(f'Mean Sim: {torch.mean(our_sim_scores)}')\n",
    "print(f'Std. Dev. Sim: {torch.std(our_sim_scores)}')\n",
    "\n",
    "print('Mik Embeddings...')\n",
    "print(f'Mean Sim: {torch.mean(mik_sim_scores)}')\n",
    "print(f'Std. Dev. Sim: {torch.std(mik_sim_scores)}')"
   ]
  }
 ],
 "metadata": {
  "kernelspec": {
   "display_name": "Python 3 (ipykernel)",
   "language": "python",
   "name": "python3"
  },
  "language_info": {
   "codemirror_mode": {
    "name": "ipython",
    "version": 3
   },
   "file_extension": ".py",
   "mimetype": "text/x-python",
   "name": "python",
   "nbconvert_exporter": "python",
   "pygments_lexer": "ipython3",
   "version": "3.9.7"
  }
 },
 "nbformat": 4,
 "nbformat_minor": 5
}
