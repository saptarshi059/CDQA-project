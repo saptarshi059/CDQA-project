{
 "cells": [
  {
   "cell_type": "code",
   "execution_count": 1,
   "id": "ebefd3a1",
   "metadata": {},
   "outputs": [
    {
     "name": "stdout",
     "output_type": "stream",
     "text": [
      "/home/ubuntu/Desktop/CDQA-project/UMLS_KG/embeddings/distmult\n"
     ]
    },
    {
     "data": {
      "application/vnd.jupyter.widget-view+json": {
       "model_id": "5f2aed869d6443b4a099c2fbec7f8b85",
       "version_major": 2,
       "version_minor": 0
      },
      "text/plain": [
       "HBox(children=(FloatProgress(value=0.0, max=7.0), HTML(value='')))"
      ]
     },
     "metadata": {},
     "output_type": "display_data"
    },
    {
     "name": "stdout",
     "output_type": "stream",
     "text": [
      "\n",
      "Saving converted embeddings...\n"
     ]
    }
   ],
   "source": [
    "#Converting KGE to BERT embeddings (Domain Term Encoding (DTE)) - part3 (Passing KGE's through BERT)\n",
    "#[Creating DTE Lookup Table]\n",
    "\n",
    "%cd ~/Desktop/CDQA-project/UMLS_KG/embeddings/distmult\n",
    "from transformers import AutoModel\n",
    "import torch\n",
    "import os\n",
    "import pickle\n",
    "from tqdm.notebook import tqdm\n",
    "import pandas as pd\n",
    "\n",
    "def Create_DTE_BERT_LookUp_Table(model_name):\n",
    "    \n",
    "    #Loading triple_list\n",
    "    with open('expanded_entities.pkl', 'rb') as f:\n",
    "        triple_list = pickle.load(f)\n",
    "\n",
    "    model = AutoModel.from_pretrained(model_name)\n",
    "    model.eval()\n",
    "\n",
    "    matrix = model.get_input_embeddings() #BERT embeddings\n",
    "\n",
    "    CLS_embedding = matrix(torch.LongTensor([101]))\n",
    "    SEP_embedding = matrix(torch.LongTensor([102]))\n",
    "\n",
    "    DTE_BERT_Matrix = {}\n",
    "\n",
    "    with torch.no_grad():\n",
    "        for seq in tqdm(triple_list):\n",
    "            if seq == []: #There is no expansion of the entity\n",
    "                continue\n",
    "\n",
    "            outputs = model(inputs_embeds = torch.unsqueeze(\\\n",
    "                                            torch.cat(\\\n",
    "                                            (CLS_embedding,\\\n",
    "                                             torch.FloatTensor([x[1] for x in seq]), SEP_embedding)), dim=1))\n",
    "\n",
    "            #Collecting all the embeddings for the current domain term in e[]\n",
    "            e = []\n",
    "\n",
    "            '''\n",
    "            Starting at 1 & ending at (len -1) to a/c for [CLS] & [SEP].\n",
    "            Step size is 3 since the required entity occurs in spaces of 3, according to the expansion scheme.\n",
    "            '''\n",
    "            for i in range(1, (len(seq) - 1), 3): \n",
    "                e.append(outputs[0][i])\n",
    "\n",
    "            '''\n",
    "            The BERT embedding for each entity will be the average of all its occurrences.\n",
    "            *e provides all the elements of e (unpacking).\n",
    "            '''\n",
    "            DTE_BERT_Matrix[seq[0][0]] = torch.mean(torch.stack([*e], dim=0), dim=0)\n",
    "\n",
    "    DTE_BERT_Lookup_Table = pd.DataFrame(list(DTE_BERT_Matrix.items()),columns = ['Term','Embedding'])\n",
    "    DTE_BERT_Matrix.clear()\n",
    "    \n",
    "    print('Saving converted embeddings...')\n",
    "    DTE_BERT_Lookup_Table.to_pickle('DTE_to_BERT.pkl')\n",
    "\n",
    "Create_DTE_BERT_LookUp_Table('bert-base-uncased')"
   ]
  }
 ],
 "metadata": {
  "kernelspec": {
   "display_name": "Python 3",
   "language": "python",
   "name": "python3"
  },
  "language_info": {
   "codemirror_mode": {
    "name": "ipython",
    "version": 3
   },
   "file_extension": ".py",
   "mimetype": "text/x-python",
   "name": "python",
   "nbconvert_exporter": "python",
   "pygments_lexer": "ipython3",
   "version": "3.7.10"
  }
 },
 "nbformat": 4,
 "nbformat_minor": 5
}
